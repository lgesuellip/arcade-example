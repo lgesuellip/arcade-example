{
 "cells": [
  {
   "cell_type": "code",
   "execution_count": null,
   "metadata": {},
   "outputs": [],
   "source": [
    "!pip install \"langgraph>=0.2.0\""
   ]
  },
  {
   "cell_type": "code",
   "execution_count": null,
   "metadata": {},
   "outputs": [],
   "source": [
    "from arcadepy import Arcade\n",
    "from dotenv import load_dotenv\n",
    "\n",
    "load_dotenv()\n",
    "\n",
    "arcade_client = Arcade()"
   ]
  },
  {
   "cell_type": "code",
   "execution_count": null,
   "metadata": {},
   "outputs": [],
   "source": [
    "from langchain_core.messages import HumanMessage\n",
    "from langchain_openai import ChatOpenAI\n",
    "from langgraph.prebuilt import create_react_agent\n",
    "from langchain_arcade_custom.manager import ArcadeToolManager\n",
    "\n",
    "\n",
    "# Get all the tools available in Arcade\n",
    "manager = ArcadeToolManager(client=arcade_client)\n",
    "tools = manager.get_tools(tools=[\"Google_CreateEvent\"])\n",
    "\n",
    "# Create an instance of the AI language model\n",
    "model = ChatOpenAI(model=\"gpt-4o\",)\n",
    "\n",
    "# Init a prebuilt agent that can use tools\n",
    "# in a REACT style langgraph\n",
    "graph = create_react_agent(model, tools=tools)\n",
    "\n",
    "# Define the initial input message from the user\n",
    "inputs = {\n",
    "    \"messages\": [HumanMessage(content=\"Calendar event for the date 2024-10-31 at 10:00 PM - 11:00 PM argentina timezone. The event is a meeting with Halloween party.\")],\n",
    "}\n",
    "\n",
    "# Configuration parameters for the agent and tools\n",
    "config = {\n",
    "    \"configurable\": {\n",
    "        \"thread_id\": \"2\",\n",
    "        \"sender_id\": \"1234\",\n",
    "    }\n",
    "}\n",
    "\n",
    "# Stream the assistant's responses by executing the graph\n",
    "for chunk in graph.stream(inputs, stream_mode=\"values\", config=config):\n",
    "    # Access the latest message from the conversation\n",
    "    last_message = chunk[\"messages\"][-1]\n",
    "    # Print the assistant's message content\n",
    "    print(last_message.content)\n",
    "\n"
   ]
  }
 ],
 "metadata": {
  "kernelspec": {
   "display_name": "myenv",
   "language": "python",
   "name": "python3"
  },
  "language_info": {
   "codemirror_mode": {
    "name": "ipython",
    "version": 3
   },
   "file_extension": ".py",
   "mimetype": "text/x-python",
   "name": "python",
   "nbconvert_exporter": "python",
   "pygments_lexer": "ipython3",
   "version": "3.11.9"
  }
 },
 "nbformat": 4,
 "nbformat_minor": 2
}
