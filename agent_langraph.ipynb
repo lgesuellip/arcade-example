{
 "cells": [
  {
   "cell_type": "code",
   "execution_count": 1,
   "metadata": {},
   "outputs": [],
   "source": [
    "from arcadepy import Arcade\n",
    "from dotenv import load_dotenv\n",
    "\n",
    "load_dotenv()\n",
    "\n",
    "arcade_client = Arcade()"
   ]
  },
  {
   "cell_type": "code",
   "execution_count": 4,
   "metadata": {},
   "outputs": [
    {
     "name": "stdout",
     "output_type": "stream",
     "text": [
      "Calendar event for the date 2024-10-31 at 10:00 PM - 11:00 PM argentina timezone. The event is a meeting with Halloween party.\n",
      "\n",
      "[]\n",
      "{'summary': 'Meeting with Halloween Party', 'start_datetime': '2024-10-31T22:00:00-03:00', 'end_datetime': '2024-10-31T23:00:00-03:00', 'description': 'A meeting followed by a Halloween party', 'attendee_emails': []}\n",
      "{\"event\": {\"created\": \"2024-10-31T14:30:33.000Z\", \"creator\": {\"email\": \"pampalearn@gmail.com\", \"self\": true}, \"description\": \"A meeting followed by a Halloween party\", \"end\": {\"dateTime\": \"2024-10-31T23:00:00-03:00\", \"timeZone\": \"America/Argentina/Buenos_Aires\"}, \"etag\": \"\\\"3460770067810000\\\"\", \"eventType\": \"default\", \"htmlLink\": \"https://www.google.com/calendar/event?eid=YnN2bmdudTkzNGRyYTA1MnY5cmEzdGNodmMgcGFtcGFsZWFybkBt\", \"iCalUID\": \"bsvngnu934dra052v9ra3tchvc@google.com\", \"id\": \"bsvngnu934dra052v9ra3tchvc\", \"kind\": \"calendar#event\", \"organizer\": {\"email\": \"pampalearn@gmail.com\", \"self\": true}, \"reminders\": {\"useDefault\": true}, \"sequence\": 0, \"start\": {\"dateTime\": \"2024-10-31T22:00:00-03:00\", \"timeZone\": \"America/Argentina/Buenos_Aires\"}, \"status\": \"confirmed\", \"summary\": \"Meeting with Halloween Party\", \"updated\": \"2024-10-31T14:30:33.905Z\"}}\n",
      "The event \"Meeting with Halloween Party\" has been successfully created for October 31, 2024, from 10:00 PM to 11:00 PM Argentina timezone. You can view the event [here](https://www.google.com/calendar/event?eid=YnN2bmdudTkzNGRyYTA1MnY5cmEzdGNodmMgcGFtcGFsZWFybkBt).\n"
     ]
    }
   ],
   "source": [
    "from langchain_core.messages import HumanMessage\n",
    "from langchain_openai import ChatOpenAI\n",
    "from langgraph.prebuilt import create_react_agent\n",
    "from langchain_arcade_custom.manager import ArcadeToolManager\n",
    "\n",
    "\n",
    "# Get all the tools available in Arcade\n",
    "manager = ArcadeToolManager(client=arcade_client)\n",
    "tools = manager.get_tools(tools=[\"Google_CreateEvent\"])\n",
    "\n",
    "# Create an instance of the AI language model\n",
    "model = ChatOpenAI(model=\"gpt-4o\",)\n",
    "\n",
    "# Init a prebuilt agent that can use tools\n",
    "# in a REACT style langgraph\n",
    "graph = create_react_agent(model, tools=tools)\n",
    "\n",
    "# Define the initial input message from the user\n",
    "inputs = {\n",
    "    \"messages\": [HumanMessage(content=\"Calendar event for the date 2024-10-31 at 10:00 PM - 11:00 PM argentina timezone. The event is a meeting with Halloween party.\")],\n",
    "}\n",
    "\n",
    "# Configuration parameters for the agent and tools\n",
    "config = {\n",
    "    \"configurable\": {\n",
    "        \"thread_id\": \"2\",\n",
    "        \"sender_id\": \"1234\",\n",
    "    }\n",
    "}\n",
    "\n",
    "# Stream the assistant's responses by executing the graph\n",
    "for chunk in graph.stream(inputs, stream_mode=\"values\", config=config):\n",
    "    # Access the latest message from the conversation\n",
    "    last_message = chunk[\"messages\"][-1]\n",
    "    # Print the assistant's message content\n",
    "    print(last_message.content)\n",
    "\n"
   ]
  },
  {
   "cell_type": "code",
   "execution_count": null,
   "metadata": {},
   "outputs": [],
   "source": []
  }
 ],
 "metadata": {
  "kernelspec": {
   "display_name": "myenv",
   "language": "python",
   "name": "python3"
  },
  "language_info": {
   "codemirror_mode": {
    "name": "ipython",
    "version": 3
   },
   "file_extension": ".py",
   "mimetype": "text/x-python",
   "name": "python",
   "nbconvert_exporter": "python",
   "pygments_lexer": "ipython3",
   "version": "3.11.9"
  }
 },
 "nbformat": 4,
 "nbformat_minor": 2
}
