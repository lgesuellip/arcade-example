{
 "cells": [
  {
   "cell_type": "markdown",
   "metadata": {},
   "source": [
    "# OpenAI Swarm: A Framework for Multi-Agent Orchestration "
   ]
  },
  {
   "cell_type": "code",
   "execution_count": null,
   "metadata": {},
   "outputs": [],
   "source": [
    "!pip install git+https://github.com/openai/swarm.git"
   ]
  },
  {
   "cell_type": "code",
   "execution_count": 14,
   "metadata": {},
   "outputs": [],
   "source": [
    "import logging\n",
    "\n",
    "# Configure logging to display in the notebook\n",
    "logger = logging.getLogger(__name__)\n",
    "logger.setLevel(logging.INFO)\n",
    "\n",
    "# Create a stream handler to output logs to the notebook\n",
    "stream_handler = logging.StreamHandler()\n",
    "stream_handler.setLevel(logging.INFO)\n",
    "\n",
    "# Add a simple format to the handler\n",
    "formatter = logging.Formatter('%(asctime)s - %(levelname)s - %(message)s')\n",
    "stream_handler.setFormatter(formatter)\n",
    "\n",
    "# Add the handler to the logger\n",
    "logger.addHandler(stream_handler)"
   ]
  },
  {
   "cell_type": "markdown",
   "metadata": {},
   "source": [
    "## Arcade-AI"
   ]
  },
  {
   "cell_type": "code",
   "execution_count": 15,
   "metadata": {},
   "outputs": [],
   "source": [
    "from arcadepy import Arcade\n",
    "import os\n",
    "from dotenv import load_dotenv\n",
    "\n",
    "load_dotenv()\n",
    "\n",
    "arcade_client = Arcade()"
   ]
  },
  {
   "cell_type": "code",
   "execution_count": 16,
   "metadata": {},
   "outputs": [],
   "source": [
    "# Wrapper to execute ArcadeAI tools\n",
    "def Google_CreateEvent(*args, **kwargs):\n",
    "\n",
    "    response = arcade_client.tools.execute(\n",
    "        tool_name=\"Google_CreateEvent\",\n",
    "        inputs=kwargs,\n",
    "        user_id=os.environ['ARCADE_USER_ID'],\n",
    "    )\n",
    "    print(response)\n",
    "    logger.info(response)\n",
    "    return str(response)"
   ]
  },
  {
   "cell_type": "code",
   "execution_count": null,
   "metadata": {},
   "outputs": [],
   "source": [
    "from langchain_core.utils.function_calling import convert_to_openai_tool\n",
    "from langchain_arcade._utilities import tool_definition_to_pydantic_model\n",
    "\n",
    "def update_defaults(schema, defaults_list):\n",
    "    \"\"\"\n",
    "    Update the default field of each key in the schema considering a list of dictionaries with keys to update.\n",
    "    \n",
    "    Args:\n",
    "        schema (dict): The schema to update.\n",
    "        defaults_list (list[dict]): A list of dictionaries with default values to update.\n",
    "    \"\"\"\n",
    "    # Merge all dictionaries in the list into one\n",
    "    merged_defaults = {}\n",
    "    for default_dict in defaults_list:\n",
    "        merged_defaults.update(default_dict)\n",
    "    \n",
    "    # Update the schema with the merged defaults\n",
    "    for key, value in schema['function']['parameters']['properties'].items():\n",
    "        if key in merged_defaults:\n",
    "            value['default'] = merged_defaults[key]\n",
    "    return schema\n",
    "\n",
    "default_args = [\n",
    "    {\n",
    "        \"attendee_emails\": []\n",
    "    }\n",
    "]\n",
    "\n",
    "def get_schema(tool_id, default_args):\n",
    "    schema = convert_to_openai_tool(tool_definition_to_pydantic_model(arcade_client.tools.get(tool_id=tool_id)))\n",
    "    schema = update_defaults(schema, default_args)\n",
    "    schema['function']['name'] = tool_id\n",
    "    logger.info(schema)\n",
    "    return schema\n",
    "\n",
    "schema = get_schema(\"Google_CreateEvent\", default_args)"
   ]
  },
  {
   "cell_type": "code",
   "execution_count": null,
   "metadata": {},
   "outputs": [],
   "source": [
    "schema"
   ]
  },
  {
   "cell_type": "markdown",
   "metadata": {},
   "source": [
    "## Main Agent using Tools"
   ]
  },
  {
   "cell_type": "code",
   "execution_count": 19,
   "metadata": {},
   "outputs": [],
   "source": [
    "from swarm_custom.core import Agent, Swarm\n",
    "from typing import List, Callable, Dict\n",
    "\n",
    "AGENT_SYSTEM_PROMPT = \"\"\"\n",
    "# Task\n",
    "Tu nombre es Gabriela y sos un asistente de IA diseñado para ayudar al equipo de Pampa Labs. \n",
    "                      \n",
    "# Guidelines                   \n",
    "Tus respuestas deben ser:\n",
    "\n",
    "1. Amigables y accesibles, usando un tono cálido\n",
    "2. Concisas y al grano, evitando verbosidad innecesaria\n",
    "3. Útiles e informativas, proporcionando información precisa\n",
    "4. Respetuosas de la privacidad del usuario y los límites éticos\n",
    "\n",
    "Solo puedes ayudar usando las herramientas disponibles y con pedidos que vengan de miembros del equipo. Todo lo que no se pueda responder usando las herramientas, debes decir que no puedes ayudar y disculparte.\n",
    "\"\"\"\n",
    "\n",
    "# I had to convert Pydantic models to function arguments with corresponding docstrings\n",
    "# This involves extracting fields from the Pydantic models and creating function\n",
    "# parameters with appropriate type hints and descriptions in the docstring.\n",
    "def set_meal_tool(context_variables, meal: str, date: str):\n",
    "    \"\"\"\n",
    "    Sets the meal plan for a specific date.\n",
    "\n",
    "    Args:\n",
    "        meal (str): The name of the meal.\n",
    "        date (str): The date of the meal plan.\n",
    "    \"\"\"\n",
    "    return f\"Meal plan created and sent to the provider: {meal} for {date} by team member {context_variables['id']}\"\n",
    "\n",
    "def get_expenses_tool(context_variables):\n",
    "    \"\"\"\n",
    "    Retrieves all pending expenses\n",
    "    \"\"\"\n",
    "\n",
    "    # Mock implementation for testing purposes\n",
    "    mock_expenses = {\n",
    "        \"user1\": {\n",
    "            'expenses': [\n",
    "                {\n",
    "                \"expense_type\": \"food\",\n",
    "                \"date\": \"2023-05-01\",\n",
    "                \"total_value\": 50.0,\n",
    "                \"state\": \"pending\"\n",
    "            },\n",
    "            {\n",
    "                \"expense_type\": \"coffee\",\n",
    "                \"date\": \"2023-05-02\",\n",
    "                \"total_value\": 5.0,\n",
    "                \"state\": \"pending\"\n",
    "                }\n",
    "            ]\n",
    "        }\n",
    "    }\n",
    "    # Functions called by an Agent should return a type that has __str__\n",
    "    return f\"Expenses retrieved: {mock_expenses[context_variables['id']]['expenses']}\"\n",
    "\n",
    "class GabyAgent:\n",
    "    def __init__(self,\n",
    "        prompt = AGENT_SYSTEM_PROMPT,\n",
    "        model_name: str = \"gpt-4o\",\n",
    "        tools: List = [],\n",
    "    ):\n",
    "\n",
    "        self.agent = Agent(\n",
    "            name=\"Main Agent\",\n",
    "            instructions=prompt,\n",
    "            functions=tools,\n",
    "            model=model_name\n",
    "        )\n",
    "        self.client = Swarm()\n",
    "\n",
    "    def invoke(self, id, messages, debug=False):\n",
    "        response = self.client.run(\n",
    "            agent=self.agent,\n",
    "            messages=messages,\n",
    "            debug=debug,\n",
    "            context_variables={\"id\": id}\n",
    "        )\n",
    "        return response.messages[-1][\"content\"]\n",
    "    \n",
    "    def stream(self, id, messages, debug=False):\n",
    "        stream = self.client.run(\n",
    "            agent=self.agent,\n",
    "            messages=messages,\n",
    "            debug=debug,\n",
    "            context_variables={\"id\": id},\n",
    "            stream=True\n",
    "        )\n",
    "        for chunk in stream:\n",
    "            yield chunk"
   ]
  },
  {
   "cell_type": "code",
   "execution_count": null,
   "metadata": {},
   "outputs": [],
   "source": [
    "gaby_agent = GabyAgent(tools=[set_meal_tool, get_expenses_tool, {\"function\": Google_CreateEvent, \"schema\": schema}])\n",
    "response_content = gaby_agent.invoke(\n",
    "    id=\"user1\",\n",
    "    messages=[\n",
    "        {\"role\": \"user\", \"content\": \"I want to set the meal plan for the date 2024-05-01. The meal is lasagna.\"},\n",
    "        {\"role\": \"user\", \"content\": \"I want to get the expenses\"},\n",
    "        {\"role\": \"user\", \"content\": \"Calendar event for the date 2024-10-31 at 10:00 PM - 11:00 PM argentina timezone. The event is a meeting with Halloween party.\"}\n",
    "    ],\n",
    "    debug=True\n",
    ")\n",
    "print(response_content)"
   ]
  }
 ],
 "metadata": {
  "kernelspec": {
   "display_name": "myenv",
   "language": "python",
   "name": "python3"
  },
  "language_info": {
   "codemirror_mode": {
    "name": "ipython",
    "version": 3
   },
   "file_extension": ".py",
   "mimetype": "text/x-python",
   "name": "python",
   "nbconvert_exporter": "python",
   "pygments_lexer": "ipython3",
   "version": "3.11.9"
  }
 },
 "nbformat": 4,
 "nbformat_minor": 2
}
