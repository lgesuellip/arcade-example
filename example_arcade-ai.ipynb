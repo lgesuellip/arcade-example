{
 "cells": [
  {
   "cell_type": "code",
   "execution_count": null,
   "metadata": {},
   "outputs": [],
   "source": [
    "!arcade logout\n",
    "!arcade login"
   ]
  },
  {
   "cell_type": "code",
   "execution_count": null,
   "metadata": {},
   "outputs": [],
   "source": [
    "!pip show arcadepy --version"
   ]
  },
  {
   "cell_type": "code",
   "execution_count": null,
   "metadata": {},
   "outputs": [],
   "source": [
    "!pip install arcade-search\n",
    "!pip install arcade_google"
   ]
  },
  {
   "cell_type": "code",
   "execution_count": 11,
   "metadata": {},
   "outputs": [],
   "source": [
    "from arcadepy import Arcade\n",
    "from dotenv import load_dotenv\n",
    "import os\n",
    "\n",
    "load_dotenv()\n",
    "\n",
    "client = Arcade()"
   ]
  },
  {
   "cell_type": "code",
   "execution_count": null,
   "metadata": {},
   "outputs": [],
   "source": [
    "client.tools.list()"
   ]
  },
  {
   "cell_type": "code",
   "execution_count": null,
   "metadata": {},
   "outputs": [],
   "source": [
    "TOOL_NAME = \"Search.SearchGoogle\"\n",
    "\n",
    "inputs = {\"query\": \"Arcade AI documentation\", \"n_results\": 5}\n",
    "\n",
    "response = client.tools.execute(\n",
    "    tool_name=TOOL_NAME,\n",
    "    inputs=inputs,\n",
    ")\n",
    "print(response)"
   ]
  },
  {
   "cell_type": "code",
   "execution_count": null,
   "metadata": {},
   "outputs": [],
   "source": [
    "TOOL_NAME = \"Google.CreateEvent\"\n",
    "\n",
    "auth_response = client.tools.authorize(\n",
    "    tool_name=TOOL_NAME,\n",
    "    user_id=os.getenv(\"ARCADE_USER_ID\"),\n",
    ")\n",
    "\n",
    "if auth_response.status != \"completed\":\n",
    "    print(f\"Click this link to authorize: {auth_response.authorization_url}\")\n",
    "    input(\"After you have authorized, press Enter to continue...\")"
   ]
  },
  {
   "cell_type": "code",
   "execution_count": null,
   "metadata": {},
   "outputs": [],
   "source": [
    "from datetime import datetime\n",
    "\n",
    "today = datetime(2024, 10, 29)\n",
    "start_datetime = f\"{today.strftime('%Y-%m-%d')}T18:00:00-03:00\"  # Format: YYYY-MM-DDThh:mm:ss±hh:mm (Argentina Timezone)\n",
    "end_datetime = f\"{today.strftime('%Y-%m-%d')}T21:00:00-03:00\"    # Format: YYYY-MM-DDThh:mm:ss±hh:mm (Argentina Timezone)\n",
    "\n",
    "inputs = {\n",
    "    \"summary\": \"1:3 Pampa Teams - Hacking\",\n",
    "    \"description\": \"Hacking\",\n",
    "    \"start_datetime\": start_datetime,  # Using start_datetime instead of separate date/time\n",
    "    \"end_datetime\": end_datetime,      # Using end_datetime instead of separate date/time\n",
    "    \"attendee_emails\": [],\n",
    "}\n",
    "\n",
    "response = client.tools.execute(\n",
    "    tool_name=TOOL_NAME,\n",
    "    inputs=inputs,\n",
    "    user_id=os.getenv(\"ARCADE_USER_ID\"),\n",
    ")\n",
    "\n",
    "print(response.__dict__)"
   ]
  }
 ],
 "metadata": {
  "kernelspec": {
   "display_name": "myenv",
   "language": "python",
   "name": "python3"
  },
  "language_info": {
   "codemirror_mode": {
    "name": "ipython",
    "version": 3
   },
   "file_extension": ".py",
   "mimetype": "text/x-python",
   "name": "python",
   "nbconvert_exporter": "python",
   "pygments_lexer": "ipython3",
   "version": "3.11.9"
  }
 },
 "nbformat": 4,
 "nbformat_minor": 2
}
