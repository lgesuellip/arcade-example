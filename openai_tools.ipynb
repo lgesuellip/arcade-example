{
 "cells": [
  {
   "cell_type": "markdown",
   "metadata": {},
   "source": [
    "# Integrating ArcadeAI tools using OpenAI client"
   ]
  },
  {
   "cell_type": "markdown",
   "metadata": {},
   "source": [
    "### Arcade-AI"
   ]
  },
  {
   "cell_type": "code",
   "execution_count": null,
   "metadata": {},
   "outputs": [],
   "source": [
    "from arcadepy import Arcade\n",
    "import os\n",
    "from dotenv import load_dotenv\n",
    "import logging\n",
    "import json\n",
    "\n",
    "load_dotenv()\n",
    "\n",
    "arcade_client = Arcade()"
   ]
  },
  {
   "cell_type": "code",
   "execution_count": null,
   "metadata": {},
   "outputs": [],
   "source": [
    "# Configure logging to display in the notebook\n",
    "logger = logging.getLogger(__name__)\n",
    "logger.setLevel(logging.INFO)\n",
    "\n",
    "# Create a stream handler to output logs to the notebook\n",
    "stream_handler = logging.StreamHandler()\n",
    "stream_handler.setLevel(logging.INFO)\n",
    "\n",
    "# Add a simple format to the handler\n",
    "formatter = logging.Formatter('%(asctime)s - %(levelname)s - %(message)s')\n",
    "stream_handler.setFormatter(formatter)\n",
    "\n",
    "# Add the handler to the logger\n",
    "logger.addHandler(stream_handler)"
   ]
  },
  {
   "cell_type": "code",
   "execution_count": null,
   "metadata": {},
   "outputs": [],
   "source": [
    "# Wrapper to execute ArcadeAI tools\n",
    "def Google_CreateEvent(*args, **kwargs):\n",
    "\n",
    "    response = arcade_client.tools.execute(\n",
    "        tool_name=\"Google_CreateEvent\",\n",
    "        inputs=kwargs,\n",
    "        user_id=os.environ['ARCADE_USER_ID'],\n",
    "    )\n",
    "    logger.info(response)\n",
    "    return response"
   ]
  },
  {
   "cell_type": "markdown",
   "metadata": {},
   "source": [
    "#### Convert Arcade tool to OpenAI compatible format"
   ]
  },
  {
   "cell_type": "markdown",
   "metadata": {},
   "source": [
    "Steps to convert Arcade ToolDefinition to OpenAI schema:\n",
    "  1. Convert Arcade ToolDefinition to a Pydantic Model.\n",
    "  2. Transform the Pydantic Model into an OpenAI-compatible schema."
   ]
  },
  {
   "cell_type": "code",
   "execution_count": null,
   "metadata": {},
   "outputs": [],
   "source": [
    "from langchain_core.utils.function_calling import convert_to_openai_tool\n",
    "from langchain_arcade._utilities import tool_definition_to_pydantic_model\n",
    "\n",
    "def update_defaults(schema, defaults_list):\n",
    "    \"\"\"\n",
    "    Update the default field of each key in the schema considering a list of dictionaries with keys to update.\n",
    "    \n",
    "    Args:\n",
    "        schema (dict): The schema to update.\n",
    "        defaults_list (list[dict]): A list of dictionaries with default values to update.\n",
    "    \"\"\"\n",
    "    # Merge all dictionaries in the list into one\n",
    "    merged_defaults = {}\n",
    "    for default_dict in defaults_list:\n",
    "        merged_defaults.update(default_dict)\n",
    "    \n",
    "    # Update the schema with the merged defaults\n",
    "    for key, value in schema['function']['parameters']['properties'].items():\n",
    "        if key in merged_defaults:\n",
    "            value['default'] = merged_defaults[key]\n",
    "    return schema\n",
    "\n",
    "default_args = [\n",
    "    {\n",
    "        \"attendee_emails\": None\n",
    "    }\n",
    "]\n",
    "\n",
    "def get_schema(tool_id, default_args):\n",
    "    schema = convert_to_openai_tool(tool_definition_to_pydantic_model(arcade_client.tools.get(tool_id=tool_id)))\n",
    "    schema = update_defaults(schema, default_args)\n",
    "    schema['function']['name'] = tool_id\n",
    "    logger.info(schema)\n",
    "    return schema\n",
    "\n",
    "schema = get_schema(\"Google_CreateEvent\", default_args)"
   ]
  },
  {
   "cell_type": "markdown",
   "metadata": {},
   "source": [
    "### OpenAI"
   ]
  },
  {
   "cell_type": "code",
   "execution_count": null,
   "metadata": {},
   "outputs": [],
   "source": [
    "from openai import AsyncOpenAI\n",
    "\n",
    "openai_client = AsyncOpenAI()\n",
    "\n",
    "async def inference(input, tools):\n",
    "    response = await openai_client.chat.completions.create(\n",
    "            messages=[\n",
    "                {\"role\": \"system\", \"content\": \"You are a helpful assistant.\"},\n",
    "                {\"role\": \"user\", \"content\": input},\n",
    "            ],\n",
    "            model=\"gpt-4o-mini\",\n",
    "            max_tokens=500,\n",
    "            tools=tools,\n",
    "            tool_choice='auto',\n",
    "        )\n",
    "    return response.choices[0].message\n",
    "\n",
    "\n",
    "tools = [schema]\n",
    "\n",
    "response = await inference(\"Calendar event for the date 2024-10-31 at 10:00 PM - 11:00 PM argentina timezone. The event is a meeting with Halloween party.\", tools)"
   ]
  },
  {
   "cell_type": "code",
   "execution_count": null,
   "metadata": {},
   "outputs": [],
   "source": [
    "if response.tool_calls:\n",
    "    tool_call_id = response.tool_calls[0].id\n",
    "    tool_function_name = response.tool_calls[0].function.name\n",
    "    tool_query_string = json.loads(response.tool_calls[0].function.arguments)\n",
    "    logger.info(globals()[tool_function_name](**tool_query_string))"
   ]
  }
 ],
 "metadata": {
  "kernelspec": {
   "display_name": "myenv",
   "language": "python",
   "name": "python3"
  },
  "language_info": {
   "codemirror_mode": {
    "name": "ipython",
    "version": 3
   },
   "file_extension": ".py",
   "mimetype": "text/x-python",
   "name": "python",
   "nbconvert_exporter": "python",
   "pygments_lexer": "ipython3",
   "version": "3.11.9"
  }
 },
 "nbformat": 4,
 "nbformat_minor": 2
}
